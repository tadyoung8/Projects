{
  "nbformat": 4,
  "nbformat_minor": 0,
  "metadata": {
    "colab": {
      "name": "projectweek10.ipynb",
      "provenance": [],
      "collapsed_sections": [],
      "authorship_tag": "ABX9TyPmhvbkaWC5reUalQPxsVmC",
      "include_colab_link": true
    },
    "kernelspec": {
      "name": "python3",
      "display_name": "Python 3"
    },
    "language_info": {
      "name": "python"
    }
  },
  "cells": [
    {
      "cell_type": "markdown",
      "metadata": {
        "id": "view-in-github",
        "colab_type": "text"
      },
      "source": [
        "<a href=\"https://colab.research.google.com/github/tadyoung8/Projects/blob/main/projectweek10.ipynb\" target=\"_parent\"><img src=\"https://colab.research.google.com/assets/colab-badge.svg\" alt=\"Open In Colab\"/></a>"
      ]
    },
    {
      "cell_type": "code",
      "metadata": {
        "colab": {
          "base_uri": "https://localhost:8080/"
        },
        "id": "iUs4g34tV4Yr",
        "outputId": "de86479d-4c41-47d8-f7a8-963c38cab1b4"
      },
      "source": [
        "import pandas as pd\n",
        "import nltk\n",
        "import re\n",
        "import numpy as np\n",
        "from sklearn.feature_extraction.text import CountVectorizer\n",
        "from sklearn.cluster import KMeans\n",
        "from collections import Counter\n",
        "\n",
        "\n",
        "df = pd.read_csv('netflix_titles.csv')\n",
        "df.info()"
      ],
      "execution_count": null,
      "outputs": [
        {
          "output_type": "stream",
          "name": "stdout",
          "text": [
            "<class 'pandas.core.frame.DataFrame'>\n",
            "RangeIndex: 8807 entries, 0 to 8806\n",
            "Data columns (total 12 columns):\n",
            " #   Column        Non-Null Count  Dtype \n",
            "---  ------        --------------  ----- \n",
            " 0   show_id       8807 non-null   object\n",
            " 1   type          8807 non-null   object\n",
            " 2   title         8807 non-null   object\n",
            " 3   director      6173 non-null   object\n",
            " 4   cast          7982 non-null   object\n",
            " 5   country       7976 non-null   object\n",
            " 6   date_added    8797 non-null   object\n",
            " 7   release_year  8807 non-null   int64 \n",
            " 8   rating        8803 non-null   object\n",
            " 9   duration      8804 non-null   object\n",
            " 10  listed_in     8807 non-null   object\n",
            " 11  description   8807 non-null   object\n",
            "dtypes: int64(1), object(11)\n",
            "memory usage: 825.8+ KB\n"
          ]
        }
      ]
    },
    {
      "cell_type": "code",
      "metadata": {
        "colab": {
          "base_uri": "https://localhost:8080/",
          "height": 632
        },
        "id": "cHl2QBsvWxPe",
        "outputId": "2591fc4b-d3ec-458d-b529-1c1d12d9472d"
      },
      "source": [
        "df.head()"
      ],
      "execution_count": null,
      "outputs": [
        {
          "output_type": "execute_result",
          "data": {
            "text/html": [
              "<div>\n",
              "<style scoped>\n",
              "    .dataframe tbody tr th:only-of-type {\n",
              "        vertical-align: middle;\n",
              "    }\n",
              "\n",
              "    .dataframe tbody tr th {\n",
              "        vertical-align: top;\n",
              "    }\n",
              "\n",
              "    .dataframe thead th {\n",
              "        text-align: right;\n",
              "    }\n",
              "</style>\n",
              "<table border=\"1\" class=\"dataframe\">\n",
              "  <thead>\n",
              "    <tr style=\"text-align: right;\">\n",
              "      <th></th>\n",
              "      <th>show_id</th>\n",
              "      <th>type</th>\n",
              "      <th>title</th>\n",
              "      <th>director</th>\n",
              "      <th>cast</th>\n",
              "      <th>country</th>\n",
              "      <th>date_added</th>\n",
              "      <th>release_year</th>\n",
              "      <th>rating</th>\n",
              "      <th>duration</th>\n",
              "      <th>listed_in</th>\n",
              "      <th>description</th>\n",
              "    </tr>\n",
              "  </thead>\n",
              "  <tbody>\n",
              "    <tr>\n",
              "      <th>0</th>\n",
              "      <td>s1</td>\n",
              "      <td>Movie</td>\n",
              "      <td>Dick Johnson Is Dead</td>\n",
              "      <td>Kirsten Johnson</td>\n",
              "      <td>NaN</td>\n",
              "      <td>United States</td>\n",
              "      <td>September 25, 2021</td>\n",
              "      <td>2020</td>\n",
              "      <td>PG-13</td>\n",
              "      <td>90 min</td>\n",
              "      <td>Documentaries</td>\n",
              "      <td>As her father nears the end of his life, filmm...</td>\n",
              "    </tr>\n",
              "    <tr>\n",
              "      <th>1</th>\n",
              "      <td>s2</td>\n",
              "      <td>TV Show</td>\n",
              "      <td>Blood &amp; Water</td>\n",
              "      <td>NaN</td>\n",
              "      <td>Ama Qamata, Khosi Ngema, Gail Mabalane, Thaban...</td>\n",
              "      <td>South Africa</td>\n",
              "      <td>September 24, 2021</td>\n",
              "      <td>2021</td>\n",
              "      <td>TV-MA</td>\n",
              "      <td>2 Seasons</td>\n",
              "      <td>International TV Shows, TV Dramas, TV Mysteries</td>\n",
              "      <td>After crossing paths at a party, a Cape Town t...</td>\n",
              "    </tr>\n",
              "    <tr>\n",
              "      <th>2</th>\n",
              "      <td>s3</td>\n",
              "      <td>TV Show</td>\n",
              "      <td>Ganglands</td>\n",
              "      <td>Julien Leclercq</td>\n",
              "      <td>Sami Bouajila, Tracy Gotoas, Samuel Jouy, Nabi...</td>\n",
              "      <td>NaN</td>\n",
              "      <td>September 24, 2021</td>\n",
              "      <td>2021</td>\n",
              "      <td>TV-MA</td>\n",
              "      <td>1 Season</td>\n",
              "      <td>Crime TV Shows, International TV Shows, TV Act...</td>\n",
              "      <td>To protect his family from a powerful drug lor...</td>\n",
              "    </tr>\n",
              "    <tr>\n",
              "      <th>3</th>\n",
              "      <td>s4</td>\n",
              "      <td>TV Show</td>\n",
              "      <td>Jailbirds New Orleans</td>\n",
              "      <td>NaN</td>\n",
              "      <td>NaN</td>\n",
              "      <td>NaN</td>\n",
              "      <td>September 24, 2021</td>\n",
              "      <td>2021</td>\n",
              "      <td>TV-MA</td>\n",
              "      <td>1 Season</td>\n",
              "      <td>Docuseries, Reality TV</td>\n",
              "      <td>Feuds, flirtations and toilet talk go down amo...</td>\n",
              "    </tr>\n",
              "    <tr>\n",
              "      <th>4</th>\n",
              "      <td>s5</td>\n",
              "      <td>TV Show</td>\n",
              "      <td>Kota Factory</td>\n",
              "      <td>NaN</td>\n",
              "      <td>Mayur More, Jitendra Kumar, Ranjan Raj, Alam K...</td>\n",
              "      <td>India</td>\n",
              "      <td>September 24, 2021</td>\n",
              "      <td>2021</td>\n",
              "      <td>TV-MA</td>\n",
              "      <td>2 Seasons</td>\n",
              "      <td>International TV Shows, Romantic TV Shows, TV ...</td>\n",
              "      <td>In a city of coaching centers known to train I...</td>\n",
              "    </tr>\n",
              "  </tbody>\n",
              "</table>\n",
              "</div>"
            ],
            "text/plain": [
              "  show_id  ...                                        description\n",
              "0      s1  ...  As her father nears the end of his life, filmm...\n",
              "1      s2  ...  After crossing paths at a party, a Cape Town t...\n",
              "2      s3  ...  To protect his family from a powerful drug lor...\n",
              "3      s4  ...  Feuds, flirtations and toilet talk go down amo...\n",
              "4      s5  ...  In a city of coaching centers known to train I...\n",
              "\n",
              "[5 rows x 12 columns]"
            ]
          },
          "metadata": {},
          "execution_count": 36
        }
      ]
    },
    {
      "cell_type": "code",
      "metadata": {
        "colab": {
          "base_uri": "https://localhost:8080/"
        },
        "id": "45EbIvA3W06X",
        "outputId": "4fe1f41c-6c23-4f19-bf09-47250b9c03e0"
      },
      "source": [
        "df = df[['type', 'title', 'release_year', 'description']]\n",
        "df.dropna(inplace=True)\n",
        "df.info()"
      ],
      "execution_count": null,
      "outputs": [
        {
          "output_type": "stream",
          "name": "stdout",
          "text": [
            "<class 'pandas.core.frame.DataFrame'>\n",
            "Int64Index: 8807 entries, 0 to 8806\n",
            "Data columns (total 4 columns):\n",
            " #   Column        Non-Null Count  Dtype \n",
            "---  ------        --------------  ----- \n",
            " 0   type          8807 non-null   object\n",
            " 1   title         8807 non-null   object\n",
            " 2   release_year  8807 non-null   int64 \n",
            " 3   description   8807 non-null   object\n",
            "dtypes: int64(1), object(3)\n",
            "memory usage: 344.0+ KB\n"
          ]
        },
        {
          "output_type": "stream",
          "name": "stderr",
          "text": [
            "/usr/local/lib/python3.7/dist-packages/ipykernel_launcher.py:2: SettingWithCopyWarning: \n",
            "A value is trying to be set on a copy of a slice from a DataFrame\n",
            "\n",
            "See the caveats in the documentation: https://pandas.pydata.org/pandas-docs/stable/user_guide/indexing.html#returning-a-view-versus-a-copy\n",
            "  \n"
          ]
        }
      ]
    },
    {
      "cell_type": "code",
      "metadata": {
        "colab": {
          "base_uri": "https://localhost:8080/",
          "height": 419
        },
        "id": "N_DP4nl9W1AE",
        "outputId": "19627b8e-f0bf-4d14-c4c2-7d1d981bc185"
      },
      "source": [
        "df"
      ],
      "execution_count": null,
      "outputs": [
        {
          "output_type": "execute_result",
          "data": {
            "text/html": [
              "<div>\n",
              "<style scoped>\n",
              "    .dataframe tbody tr th:only-of-type {\n",
              "        vertical-align: middle;\n",
              "    }\n",
              "\n",
              "    .dataframe tbody tr th {\n",
              "        vertical-align: top;\n",
              "    }\n",
              "\n",
              "    .dataframe thead th {\n",
              "        text-align: right;\n",
              "    }\n",
              "</style>\n",
              "<table border=\"1\" class=\"dataframe\">\n",
              "  <thead>\n",
              "    <tr style=\"text-align: right;\">\n",
              "      <th></th>\n",
              "      <th>type</th>\n",
              "      <th>title</th>\n",
              "      <th>release_year</th>\n",
              "      <th>description</th>\n",
              "    </tr>\n",
              "  </thead>\n",
              "  <tbody>\n",
              "    <tr>\n",
              "      <th>0</th>\n",
              "      <td>Movie</td>\n",
              "      <td>Dick Johnson Is Dead</td>\n",
              "      <td>2020</td>\n",
              "      <td>As her father nears the end of his life, filmm...</td>\n",
              "    </tr>\n",
              "    <tr>\n",
              "      <th>1</th>\n",
              "      <td>TV Show</td>\n",
              "      <td>Blood &amp; Water</td>\n",
              "      <td>2021</td>\n",
              "      <td>After crossing paths at a party, a Cape Town t...</td>\n",
              "    </tr>\n",
              "    <tr>\n",
              "      <th>2</th>\n",
              "      <td>TV Show</td>\n",
              "      <td>Ganglands</td>\n",
              "      <td>2021</td>\n",
              "      <td>To protect his family from a powerful drug lor...</td>\n",
              "    </tr>\n",
              "    <tr>\n",
              "      <th>3</th>\n",
              "      <td>TV Show</td>\n",
              "      <td>Jailbirds New Orleans</td>\n",
              "      <td>2021</td>\n",
              "      <td>Feuds, flirtations and toilet talk go down amo...</td>\n",
              "    </tr>\n",
              "    <tr>\n",
              "      <th>4</th>\n",
              "      <td>TV Show</td>\n",
              "      <td>Kota Factory</td>\n",
              "      <td>2021</td>\n",
              "      <td>In a city of coaching centers known to train I...</td>\n",
              "    </tr>\n",
              "    <tr>\n",
              "      <th>...</th>\n",
              "      <td>...</td>\n",
              "      <td>...</td>\n",
              "      <td>...</td>\n",
              "      <td>...</td>\n",
              "    </tr>\n",
              "    <tr>\n",
              "      <th>8802</th>\n",
              "      <td>Movie</td>\n",
              "      <td>Zodiac</td>\n",
              "      <td>2007</td>\n",
              "      <td>A political cartoonist, a crime reporter and a...</td>\n",
              "    </tr>\n",
              "    <tr>\n",
              "      <th>8803</th>\n",
              "      <td>TV Show</td>\n",
              "      <td>Zombie Dumb</td>\n",
              "      <td>2018</td>\n",
              "      <td>While living alone in a spooky town, a young g...</td>\n",
              "    </tr>\n",
              "    <tr>\n",
              "      <th>8804</th>\n",
              "      <td>Movie</td>\n",
              "      <td>Zombieland</td>\n",
              "      <td>2009</td>\n",
              "      <td>Looking to survive in a world taken over by zo...</td>\n",
              "    </tr>\n",
              "    <tr>\n",
              "      <th>8805</th>\n",
              "      <td>Movie</td>\n",
              "      <td>Zoom</td>\n",
              "      <td>2006</td>\n",
              "      <td>Dragged from civilian life, a former superhero...</td>\n",
              "    </tr>\n",
              "    <tr>\n",
              "      <th>8806</th>\n",
              "      <td>Movie</td>\n",
              "      <td>Zubaan</td>\n",
              "      <td>2015</td>\n",
              "      <td>A scrappy but poor boy worms his way into a ty...</td>\n",
              "    </tr>\n",
              "  </tbody>\n",
              "</table>\n",
              "<p>8807 rows × 4 columns</p>\n",
              "</div>"
            ],
            "text/plain": [
              "         type  ...                                        description\n",
              "0       Movie  ...  As her father nears the end of his life, filmm...\n",
              "1     TV Show  ...  After crossing paths at a party, a Cape Town t...\n",
              "2     TV Show  ...  To protect his family from a powerful drug lor...\n",
              "3     TV Show  ...  Feuds, flirtations and toilet talk go down amo...\n",
              "4     TV Show  ...  In a city of coaching centers known to train I...\n",
              "...       ...  ...                                                ...\n",
              "8802    Movie  ...  A political cartoonist, a crime reporter and a...\n",
              "8803  TV Show  ...  While living alone in a spooky town, a young g...\n",
              "8804    Movie  ...  Looking to survive in a world taken over by zo...\n",
              "8805    Movie  ...  Dragged from civilian life, a former superhero...\n",
              "8806    Movie  ...  A scrappy but poor boy worms his way into a ty...\n",
              "\n",
              "[8807 rows x 4 columns]"
            ]
          },
          "metadata": {},
          "execution_count": 38
        }
      ]
    },
    {
      "cell_type": "code",
      "metadata": {
        "colab": {
          "base_uri": "https://localhost:8080/"
        },
        "id": "-Dq7fI9bW1Dn",
        "outputId": "eb38b006-757e-4f91-85c2-fb635f154103"
      },
      "source": [
        "stop_words = nltk.corpus.stopwords.words('english')\n",
        "\n",
        "def normalize_document(doc):\n",
        "    # lower case and remove special characters\\whitespaces\n",
        "    doc = re.sub(r'[^a-zA-Z0-9\\s]', '', doc, re.I|re.A)\n",
        "    doc = doc.lower()\n",
        "    doc = doc.strip()\n",
        "    # tokenize document\n",
        "    tokens = nltk.word_tokenize(doc)\n",
        "    # filter stopwords out of document\n",
        "    filtered_tokens = [token for token in tokens if token not in stop_words]\n",
        "    # re-create document from filtered tokens\n",
        "    doc = ' '.join(filtered_tokens)\n",
        "    return doc\n",
        "\n",
        "normalize_corpus = np.vectorize(normalize_document)\n",
        "\n",
        "norm_corpus = normalize_corpus(list(df['description']))\n",
        "len(norm_corpus)"
      ],
      "execution_count": null,
      "outputs": [
        {
          "output_type": "execute_result",
          "data": {
            "text/plain": [
              "8807"
            ]
          },
          "metadata": {},
          "execution_count": 39
        }
      ]
    },
    {
      "cell_type": "code",
      "metadata": {
        "colab": {
          "base_uri": "https://localhost:8080/"
        },
        "id": "GADSKhPTXk51",
        "outputId": "65e75dbb-1642-4be8-803f-14603189b58b"
      },
      "source": [
        "stop_words = stop_words + ['one', 'two', 'get']\n",
        "cv = CountVectorizer(ngram_range=(1, 2), min_df=10, max_df=0.8, stop_words=stop_words)\n",
        "cv_matrix = cv.fit_transform(norm_corpus)\n",
        "cv_matrix.shape"
      ],
      "execution_count": null,
      "outputs": [
        {
          "output_type": "execute_result",
          "data": {
            "text/plain": [
              "(8807, 2685)"
            ]
          },
          "metadata": {},
          "execution_count": 40
        }
      ]
    },
    {
      "cell_type": "code",
      "metadata": {
        "colab": {
          "base_uri": "https://localhost:8080/"
        },
        "id": "rt0BKos8W1It",
        "outputId": "6b380da4-ff9e-4b83-cff6-14b45f0fa9e1"
      },
      "source": [
        "NUM_CLUSTERS = 4\n",
        "km = KMeans(n_clusters=NUM_CLUSTERS, max_iter=10000, n_init=50, random_state=42).fit(cv_matrix)\n",
        "km"
      ],
      "execution_count": null,
      "outputs": [
        {
          "output_type": "execute_result",
          "data": {
            "text/plain": [
              "KMeans(algorithm='auto', copy_x=True, init='k-means++', max_iter=10000,\n",
              "       n_clusters=4, n_init=50, n_jobs=None, precompute_distances='auto',\n",
              "       random_state=42, tol=0.0001, verbose=0)"
            ]
          },
          "metadata": {},
          "execution_count": 41
        }
      ]
    },
    {
      "cell_type": "code",
      "metadata": {
        "colab": {
          "base_uri": "https://localhost:8080/"
        },
        "id": "RNrZAuxzYsSr",
        "outputId": "22221a6e-fe7c-4eb5-8908-dc5b9a4ef284"
      },
      "source": [
        "Counter(km.labels_)"
      ],
      "execution_count": null,
      "outputs": [
        {
          "output_type": "execute_result",
          "data": {
            "text/plain": [
              "Counter({0: 6765, 1: 468, 2: 933, 3: 641})"
            ]
          },
          "metadata": {},
          "execution_count": 43
        }
      ]
    },
    {
      "cell_type": "code",
      "metadata": {
        "id": "_cnJUag4ZGxG"
      },
      "source": [
        "df['kmeans_cluster'] = km.labels_"
      ],
      "execution_count": null,
      "outputs": []
    },
    {
      "cell_type": "code",
      "metadata": {
        "id": "brFtM7FDZJ9P"
      },
      "source": [
        "\n",
        "netflix_clusters = (df[['title', 'kmeans_cluster', 'release_year']]\n",
        "                  .sort_values(by=['kmeans_cluster', 'release_year'], \n",
        "                               ascending=False)\n",
        "                  .groupby('kmeans_cluster').head(20))\n",
        "netflix_clusters = netflix_clusters.copy(deep=True)"
      ],
      "execution_count": null,
      "outputs": []
    },
    {
      "cell_type": "code",
      "metadata": {
        "colab": {
          "base_uri": "https://localhost:8080/"
        },
        "id": "jDUOaG8eZoMe",
        "outputId": "8fff1615-648c-4b98-9f86-b689028a44df"
      },
      "source": [
        "feature_names = cv.get_feature_names()\n",
        "topn_features = 15\n",
        "ordered_centroids = km.cluster_centers_.argsort()[:, ::-1]\n",
        "\n",
        "# key features for each cluster\n",
        "# movies belonging to each cluster\n",
        "for cluster_num in range(NUM_CLUSTERS):\n",
        "    key_features = [feature_names[index] \n",
        "                        for index in ordered_centroids[cluster_num, :topn_features]]\n",
        "    netflix = netflix_clusters[netflix_clusters['kmeans_cluster'] == cluster_num]['title'].values.tolist()\n",
        "    print('CLUSTER #'+str(cluster_num+1))\n",
        "    print('Key Words:', key_features)\n",
        "    print('Popular Movies and shows on Netflix:', netflix)\n",
        "    print('-'*80)"
      ],
      "execution_count": null,
      "outputs": [
        {
          "output_type": "stream",
          "name": "stdout",
          "text": [
            "CLUSTER #1\n",
            "Key Words: ['life', 'family', 'world', 'friends', 'series', 'documentary', 'must', 'school', 'find', 'three', 'woman', 'takes', 'home', 'lives', 'group']\n",
            "Popular Movies and shows on Netflix: ['Blood & Water', 'Ganglands', 'Kota Factory', 'My Little Pony: A New Generation', 'The Great British Baking Show', 'The Starling', 'Vendetta: Truth, Lies and The Mafia', 'Crime Stories: India Detectives', 'Dear White People', 'Jaguar', 'Monsters Inside: The 24 Faces of Billy Milligan', 'Go! Go! Cory Carson: Chrissy Takes the Wheel', 'Chicago Party Aunt', 'Squid Game', 'The Father Who Moves Mountains', 'The Stronghold', 'Chhota Bheem', 'He-Man and the Masters of the Universe', 'My Heroes Were Cowboys', 'Castle and Castle']\n",
            "--------------------------------------------------------------------------------\n",
            "CLUSTER #2\n",
            "Key Words: ['love', 'life', 'falls', 'young', 'woman', 'friends', 'falls love', 'true', 'fall', 'family', 'new', 'finds', 'fall love', 'romance', 'love life']\n",
            "Popular Movies and shows on Netflix: ['Love on the Spectrum', 'Ankahi Kahaniya', 'JJ+E', 'On the Verge', 'Man in Love', 'Sweet Girl', 'I Need Romance', 'Vivo', 'The Last Letter From Your Lover', 'The Tambour of Retribution', 'Last Summer', 'Cat People', 'Shtisel', \"Workin' Moms\", 'Nevertheless,', 'The Rational Life', 'Summertime', 'Ferry', 'The Innocent', 'Tell Me When']\n",
            "--------------------------------------------------------------------------------\n",
            "CLUSTER #3\n",
            "Key Words: ['young', 'man', 'woman', 'young man', 'young woman', 'life', 'family', 'must', 'girl', 'help', 'finds', 'mother', 'find', 'father', 'becomes']\n",
            "Popular Movies and shows on Netflix: ['Midnight Mass', 'Bangkok Breaking', 'Je Suis Karl', 'Firedrake the Silver Dragon', 'Untold: Crime & Penalties', 'Thimmarusu', 'D.P.', 'Clickbait', 'The River Runner', 'Gone for Good', 'Monster Hunter: Legends of the Guild', 'Aftermath', 'Blood Red Sky', 'Feels Like Ishq', 'Too Hot to Handle: Brazil', 'Mommy Issues', 'The Naked Director', 'The Seventh Day', 'A Family', 'Security']\n",
            "--------------------------------------------------------------------------------\n",
            "CLUSTER #4\n",
            "Key Words: ['new', 'new york', 'york', 'life', 'friends', 'city', 'home', 'finds', 'world', 'young', 'family', 'york city', 'school', 'must', 'help']\n",
            "Popular Movies and shows on Netflix: ['Jailbirds New Orleans', 'Confessions of an Invisible Girl', 'Intrusion', 'Nightbooks', 'Little Singham - Black Shadow', 'Tughlaq Durbar (Telugu)', 'Octonauts: Above & Beyond', 'Barbie Big City Big Dreams', 'I Heart Arlo', 'The Witcher: Nightmare of the Wolf', 'Manifest', 'Black Island', \"Lokillo: Nothing's the Same\", 'Hit & Run', 'The Flash', 'A Second Chance:  Rivals!', 'African America', 'Bankrolled', 'Lethal Love', 'Young Royals']\n",
            "--------------------------------------------------------------------------------\n"
          ]
        }
      ]
    }
  ]
}
