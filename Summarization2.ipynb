{
  "nbformat": 4,
  "nbformat_minor": 0,
  "metadata": {
    "colab": {
      "name": "Summarization2.ipynb",
      "provenance": []
    },
    "kernelspec": {
      "name": "python3",
      "display_name": "Python 3"
    },
    "language_info": {
      "name": "python"
    }
  },
  "cells": [
    {
      "cell_type": "code",
      "metadata": {
        "id": "oCJ3YFejN8GP"
      },
      "source": [
        "import nltk\n",
        "import numpy as np\n",
        "import re\n",
        "import pandas as pd\n",
        "import re\n",
        "from gensim.summarization import summarize\n",
        "from sklearn.feature_extraction.text import TfidfVectorizer\n",
        "from scipy.sparse.linalg import svds"
      ],
      "execution_count": null,
      "outputs": []
    },
    {
      "cell_type": "code",
      "metadata": {
        "id": "8_EZ2YSDK3ms"
      },
      "source": [
        "#Importing dialogue to summarize \n",
        "\n",
        "dialogue = \"\"\"\n",
        "In an attempt of reprising the role of “himself”, Joe Pesci plays a psycho mobster named Tommy, who’s as crazy as he’s funny, although Pesci’s character is in denial of those aspects of his personality.\n",
        "\n",
        "Martin Scorsese structures this dialogue scene wonderfully, using two camera setups that allow us to see each character’s reactions.\n",
        "\n",
        "Tommy is telling a story to a group of other mobsters in a restaurant, about how he refused to be interrogated by cops when they approached him as he was resting in a park. Everyone is laughing due to the actor’s hilarious way of telling the tale and Henry Hill (played by Ray Liotta) instinctively says to Tommy that he’s funny, who replies, “funny how?” Henry doesn’t know how to answer and starts mumbling, so Tommy questions him again with a bit of anger in his voice, as silence takes over the table.\n",
        "\n",
        "Soon enough, Henry finds out that Tommy is only messing with him and everybody starts laughing again. However, we also see how much of a lunatic Tommy is, which makes us wonder if Henry is safe by his side.\n",
        "\n",
        "This scene is based on a real experience Joe Pesci had when working on a restaurant. He told a mobster that he was funny and things went downhill from there, as the guy didn’t take the compliment too fondly. The director didn’t add this bit to the filming schedule, only he and Joe knew about it, so the other actors improvised around Pesci’s great performance, and their reactions are real and priceless.\n",
        "\n",
        "Scorsese portrays the relationship between these two in a single masterful dialogue that, on top of being amusing, establishes the movie’s whole rhythm, which is dynamic and unexpected.\n",
        "\"\"\""
      ],
      "execution_count": null,
      "outputs": []
    },
    {
      "cell_type": "code",
      "metadata": {
        "id": "0mZInxQmLKqQ"
      },
      "source": [
        "#converting dialogue to lowercase and a more readable format\n",
        "\n",
        "dialogue = re.sub(r' +', ' ', dialogue)\n",
        "dialogue = re.sub(r'\\n|\\r', ' ', dialogue)\n",
        "dialogue = dialogue.strip()\n",
        "dialogue = dialogue.lower()"
      ],
      "execution_count": null,
      "outputs": []
    },
    {
      "cell_type": "code",
      "metadata": {
        "colab": {
          "base_uri": "https://localhost:8080/"
        },
        "id": "NMiyg-CELoIK",
        "outputId": "69d7f80d-5c93-4bb4-9720-ce6c5faabb90"
      },
      "source": [
        "#summarizing dialogue\n",
        "\n",
        "print(summarize(dialogue, ratio=0.2, split=False))"
      ],
      "execution_count": null,
      "outputs": [
        {
          "output_type": "stream",
          "name": "stdout",
          "text": [
            "in an attempt of reprising the role of “himself”, joe pesci plays a psycho mobster named tommy, who’s as crazy as he’s funny, although pesci’s character is in denial of those aspects of his personality.\n",
            "everyone is laughing due to the actor’s hilarious way of telling the tale and henry hill (played by ray liotta) instinctively says to tommy that he’s funny, who replies, “funny how?” henry doesn’t know how to answer and starts mumbling, so tommy questions him again with a bit of anger in his voice, as silence takes over the table.\n"
          ]
        }
      ]
    },
    {
      "cell_type": "code",
      "metadata": {
        "colab": {
          "base_uri": "https://localhost:8080/"
        },
        "id": "ODShhATyLt3O",
        "outputId": "4045b3e0-1edf-45db-c6ff-7fc63763b1e1"
      },
      "source": [
        "print(summarize(dialogue, word_count=50, split=False))"
      ],
      "execution_count": null,
      "outputs": [
        {
          "output_type": "stream",
          "name": "stdout",
          "text": [
            "in an attempt of reprising the role of “himself”, joe pesci plays a psycho mobster named tommy, who’s as crazy as he’s funny, although pesci’s character is in denial of those aspects of his personality.\n"
          ]
        }
      ]
    },
    {
      "cell_type": "code",
      "metadata": {
        "colab": {
          "base_uri": "https://localhost:8080/"
        },
        "id": "pLn3rl32MEts",
        "outputId": "c63dbc05-377b-4947-e551-9105246cac26"
      },
      "source": [
        "#Idea of how many sentances I am working with\n",
        "\n",
        "sentences = nltk.sent_tokenize(dialogue)\n",
        "len(sentences)"
      ],
      "execution_count": null,
      "outputs": [
        {
          "output_type": "execute_result",
          "data": {
            "text/plain": [
              "10"
            ]
          },
          "metadata": {},
          "execution_count": 42
        }
      ]
    },
    {
      "cell_type": "code",
      "metadata": {
        "id": "OST9EumKMWDb"
      },
      "source": [
        "#More cleaning, removing stopwords \n",
        "\n",
        "stop_words = nltk.corpus.stopwords.words('english')\n",
        "\n",
        "def normalize_document(doc):\n",
        "    doc = re.sub(r'[^a-zA-Z\\s]', '', doc, re.I|re.A)\n",
        "    doc = doc.strip()\n",
        "    tokens = nltk.word_tokenize(doc)\n",
        "    filtered_tokens = [token for token in tokens if token not in stop_words]\n",
        "    doc = ' '.join(filtered_tokens)\n",
        "    return doc\n",
        "\n",
        "normalize_corpus = np.vectorize(normalize_document)"
      ],
      "execution_count": null,
      "outputs": []
    },
    {
      "cell_type": "code",
      "metadata": {
        "colab": {
          "base_uri": "https://localhost:8080/"
        },
        "id": "cwVaXn1sMxMA",
        "outputId": "a5a6d9f5-1598-4f2d-8cd7-409a51514c4c"
      },
      "source": [
        "norm_sentences = normalize_corpus(sentences)\n",
        "norm_sentences[:5]"
      ],
      "execution_count": null,
      "outputs": [
        {
          "output_type": "execute_result",
          "data": {
            "text/plain": [
              "array(['attempt reprising role joe pesci plays psycho mobster named tommy whos crazy hes funny although pescis character denial aspects personality',\n",
              "       'martin scorsese structures dialogue scene wonderfully using two camera setups allow us see characters reactions',\n",
              "       'tommy telling story group mobsters restaurant refused interrogated cops approached resting park',\n",
              "       'everyone laughing due actors hilarious way telling tale henry hill played ray liotta instinctively says tommy hes funny replies funny henry doesnt know answer starts mumbling tommy questions bit anger voice silence takes table',\n",
              "       'soon enough henry finds tommy messing everybody starts laughing'],\n",
              "      dtype='<U226')"
            ]
          },
          "metadata": {},
          "execution_count": 44
        }
      ]
    },
    {
      "cell_type": "code",
      "metadata": {
        "colab": {
          "base_uri": "https://localhost:8080/",
          "height": 314
        },
        "id": "nVugM4gLNZrw",
        "outputId": "f644856f-40d7-4c98-84a4-db6118fb4b22"
      },
      "source": [
        "#using TF-IDF to see the weights of the words\n",
        "\n",
        "tv = TfidfVectorizer(min_df=0., max_df=1., use_idf=True)\n",
        "dt_matrix = tv.fit_transform(norm_sentences)\n",
        "dt_matrix = dt_matrix.toarray()\n",
        "\n",
        "vocab = tv.get_feature_names()\n",
        "td_matrix = dt_matrix.T\n",
        "print(td_matrix.shape)\n",
        "pd.DataFrame(np.round(td_matrix, 2), index=vocab).head(8)"
      ],
      "execution_count": null,
      "outputs": [
        {
          "output_type": "stream",
          "name": "stdout",
          "text": [
            "(121, 10)\n"
          ]
        },
        {
          "output_type": "execute_result",
          "data": {
            "text/html": [
              "<div>\n",
              "<style scoped>\n",
              "    .dataframe tbody tr th:only-of-type {\n",
              "        vertical-align: middle;\n",
              "    }\n",
              "\n",
              "    .dataframe tbody tr th {\n",
              "        vertical-align: top;\n",
              "    }\n",
              "\n",
              "    .dataframe thead th {\n",
              "        text-align: right;\n",
              "    }\n",
              "</style>\n",
              "<table border=\"1\" class=\"dataframe\">\n",
              "  <thead>\n",
              "    <tr style=\"text-align: right;\">\n",
              "      <th></th>\n",
              "      <th>0</th>\n",
              "      <th>1</th>\n",
              "      <th>2</th>\n",
              "      <th>3</th>\n",
              "      <th>4</th>\n",
              "      <th>5</th>\n",
              "      <th>6</th>\n",
              "      <th>7</th>\n",
              "      <th>8</th>\n",
              "      <th>9</th>\n",
              "    </tr>\n",
              "  </thead>\n",
              "  <tbody>\n",
              "    <tr>\n",
              "      <th>actors</th>\n",
              "      <td>0.00</td>\n",
              "      <td>0.00</td>\n",
              "      <td>0.0</td>\n",
              "      <td>0.15</td>\n",
              "      <td>0.0</td>\n",
              "      <td>0.00</td>\n",
              "      <td>0.0</td>\n",
              "      <td>0.0</td>\n",
              "      <td>0.22</td>\n",
              "      <td>0.00</td>\n",
              "    </tr>\n",
              "    <tr>\n",
              "      <th>add</th>\n",
              "      <td>0.00</td>\n",
              "      <td>0.00</td>\n",
              "      <td>0.0</td>\n",
              "      <td>0.00</td>\n",
              "      <td>0.0</td>\n",
              "      <td>0.00</td>\n",
              "      <td>0.0</td>\n",
              "      <td>0.0</td>\n",
              "      <td>0.26</td>\n",
              "      <td>0.00</td>\n",
              "    </tr>\n",
              "    <tr>\n",
              "      <th>allow</th>\n",
              "      <td>0.00</td>\n",
              "      <td>0.28</td>\n",
              "      <td>0.0</td>\n",
              "      <td>0.00</td>\n",
              "      <td>0.0</td>\n",
              "      <td>0.00</td>\n",
              "      <td>0.0</td>\n",
              "      <td>0.0</td>\n",
              "      <td>0.00</td>\n",
              "      <td>0.00</td>\n",
              "    </tr>\n",
              "    <tr>\n",
              "      <th>also</th>\n",
              "      <td>0.00</td>\n",
              "      <td>0.00</td>\n",
              "      <td>0.0</td>\n",
              "      <td>0.00</td>\n",
              "      <td>0.0</td>\n",
              "      <td>0.31</td>\n",
              "      <td>0.0</td>\n",
              "      <td>0.0</td>\n",
              "      <td>0.00</td>\n",
              "      <td>0.00</td>\n",
              "    </tr>\n",
              "    <tr>\n",
              "      <th>although</th>\n",
              "      <td>0.24</td>\n",
              "      <td>0.00</td>\n",
              "      <td>0.0</td>\n",
              "      <td>0.00</td>\n",
              "      <td>0.0</td>\n",
              "      <td>0.00</td>\n",
              "      <td>0.0</td>\n",
              "      <td>0.0</td>\n",
              "      <td>0.00</td>\n",
              "      <td>0.00</td>\n",
              "    </tr>\n",
              "    <tr>\n",
              "      <th>amusing</th>\n",
              "      <td>0.00</td>\n",
              "      <td>0.00</td>\n",
              "      <td>0.0</td>\n",
              "      <td>0.00</td>\n",
              "      <td>0.0</td>\n",
              "      <td>0.00</td>\n",
              "      <td>0.0</td>\n",
              "      <td>0.0</td>\n",
              "      <td>0.00</td>\n",
              "      <td>0.27</td>\n",
              "    </tr>\n",
              "    <tr>\n",
              "      <th>anger</th>\n",
              "      <td>0.00</td>\n",
              "      <td>0.00</td>\n",
              "      <td>0.0</td>\n",
              "      <td>0.18</td>\n",
              "      <td>0.0</td>\n",
              "      <td>0.00</td>\n",
              "      <td>0.0</td>\n",
              "      <td>0.0</td>\n",
              "      <td>0.00</td>\n",
              "      <td>0.00</td>\n",
              "    </tr>\n",
              "    <tr>\n",
              "      <th>answer</th>\n",
              "      <td>0.00</td>\n",
              "      <td>0.00</td>\n",
              "      <td>0.0</td>\n",
              "      <td>0.18</td>\n",
              "      <td>0.0</td>\n",
              "      <td>0.00</td>\n",
              "      <td>0.0</td>\n",
              "      <td>0.0</td>\n",
              "      <td>0.00</td>\n",
              "      <td>0.00</td>\n",
              "    </tr>\n",
              "  </tbody>\n",
              "</table>\n",
              "</div>"
            ],
            "text/plain": [
              "             0     1    2     3    4     5    6    7     8     9\n",
              "actors    0.00  0.00  0.0  0.15  0.0  0.00  0.0  0.0  0.22  0.00\n",
              "add       0.00  0.00  0.0  0.00  0.0  0.00  0.0  0.0  0.26  0.00\n",
              "allow     0.00  0.28  0.0  0.00  0.0  0.00  0.0  0.0  0.00  0.00\n",
              "also      0.00  0.00  0.0  0.00  0.0  0.31  0.0  0.0  0.00  0.00\n",
              "although  0.24  0.00  0.0  0.00  0.0  0.00  0.0  0.0  0.00  0.00\n",
              "amusing   0.00  0.00  0.0  0.00  0.0  0.00  0.0  0.0  0.00  0.27\n",
              "anger     0.00  0.00  0.0  0.18  0.0  0.00  0.0  0.0  0.00  0.00\n",
              "answer    0.00  0.00  0.0  0.18  0.0  0.00  0.0  0.0  0.00  0.00"
            ]
          },
          "metadata": {},
          "execution_count": 45
        }
      ]
    },
    {
      "cell_type": "code",
      "metadata": {
        "id": "E27aODOZOez_"
      },
      "source": [
        "def low_rank_svd(matrix, singular_count=2):\n",
        "    u, s, vt = svds(matrix, k=singular_count)\n",
        "    return u, s, vt"
      ],
      "execution_count": null,
      "outputs": []
    },
    {
      "cell_type": "code",
      "metadata": {
        "colab": {
          "base_uri": "https://localhost:8080/"
        },
        "id": "UbU4Z4ZeOlBh",
        "outputId": "7ff9e461-498d-4512-8a15-e8fa560441cb"
      },
      "source": [
        "num_sentences = 5\n",
        "num_topics = 3\n",
        "\n",
        "u, s, vt = low_rank_svd(td_matrix, singular_count=num_topics)  \n",
        "print(u.shape, s.shape, vt.shape)\n",
        "term_topic_mat, singular_values, topic_document_mat = u, s, vt"
      ],
      "execution_count": null,
      "outputs": [
        {
          "output_type": "stream",
          "name": "stdout",
          "text": [
            "(121, 3) (3,) (3, 10)\n"
          ]
        }
      ]
    },
    {
      "cell_type": "code",
      "metadata": {
        "id": "F81l4v5OOuA3"
      },
      "source": [
        "# remove values below threshold                                         \n",
        "sv_threshold = 0.5\n",
        "min_sigma_value = max(singular_values) * sv_threshold\n",
        "singular_values[singular_values < min_sigma_value] = 0"
      ],
      "execution_count": null,
      "outputs": []
    },
    {
      "cell_type": "code",
      "metadata": {
        "colab": {
          "base_uri": "https://localhost:8080/"
        },
        "id": "Kq6wVd5BOyz7",
        "outputId": "4b43c008-889f-4075-b674-0637c1b95e21"
      },
      "source": [
        "#achieving the scores/values\n",
        "\n",
        "scores = np.sqrt(np.dot(np.square(singular_values), \n",
        "                                 np.square(topic_document_mat)))\n",
        "scores"
      ],
      "execution_count": null,
      "outputs": [
        {
          "output_type": "execute_result",
          "data": {
            "text/plain": [
              "array([0.61098278, 0.78386234, 0.29721354, 0.72143761, 0.70387536,\n",
              "       0.60644032, 0.65151713, 0.39440139, 0.59435592, 0.63449575])"
            ]
          },
          "metadata": {},
          "execution_count": 49
        }
      ]
    },
    {
      "cell_type": "code",
      "metadata": {
        "id": "7hyA6NxQO23j"
      },
      "source": [
        "top_sentence_indices = (-scores).argsort()[:num_sentences]\n",
        "top_sentence_indices.sort()"
      ],
      "execution_count": null,
      "outputs": []
    },
    {
      "cell_type": "code",
      "metadata": {
        "colab": {
          "base_uri": "https://localhost:8080/"
        },
        "id": "36rtTMrQO7hU",
        "outputId": "70f1b93d-89bc-4f40-d284-e3328c87637d"
      },
      "source": [
        "#summarized portion of our dialogue\n",
        "\n",
        "print('\\n'.join(np.array(sentences)[top_sentence_indices]))"
      ],
      "execution_count": null,
      "outputs": [
        {
          "output_type": "stream",
          "name": "stdout",
          "text": [
            "martin scorsese structures this dialogue scene wonderfully, using two camera setups that allow us to see each character’s reactions.\n",
            "everyone is laughing due to the actor’s hilarious way of telling the tale and henry hill (played by ray liotta) instinctively says to tommy that he’s funny, who replies, “funny how?” henry doesn’t know how to answer and starts mumbling, so tommy questions him again with a bit of anger in his voice, as silence takes over the table.\n",
            "soon enough, henry finds out that tommy is only messing with him and everybody starts laughing again.\n",
            "this scene is based on a real experience joe pesci had when working on a restaurant.\n",
            "scorsese portrays the relationship between these two in a single masterful dialogue that, on top of being amusing, establishes the movie’s whole rhythm, which is dynamic and unexpected.\n"
          ]
        }
      ]
    }
  ]
}